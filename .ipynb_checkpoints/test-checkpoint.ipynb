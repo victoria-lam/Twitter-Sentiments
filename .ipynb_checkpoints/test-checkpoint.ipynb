{
 "cells": [
  {
   "cell_type": "code",
   "execution_count": 21,
   "metadata": {},
   "outputs": [
    {
     "ename": "ModuleNotFoundError",
     "evalue": "No module named 'textblob'",
     "output_type": "error",
     "traceback": [
      "\u001b[1;31m---------------------------------------------------------------------------\u001b[0m",
      "\u001b[1;31mModuleNotFoundError\u001b[0m                       Traceback (most recent call last)",
      "\u001b[1;32m<ipython-input-21-dc679e557840>\u001b[0m in \u001b[0;36m<module>\u001b[1;34m()\u001b[0m\n\u001b[0;32m      7\u001b[0m \u001b[1;32mimport\u001b[0m \u001b[0mjson\u001b[0m\u001b[1;33m\u001b[0m\u001b[0m\n\u001b[0;32m      8\u001b[0m \u001b[1;32mimport\u001b[0m \u001b[0mtweepy\u001b[0m\u001b[1;33m\u001b[0m\u001b[0m\n\u001b[1;32m----> 9\u001b[1;33m \u001b[1;32mfrom\u001b[0m \u001b[0mtextblob\u001b[0m \u001b[1;32mimport\u001b[0m \u001b[0mTextBlob\u001b[0m\u001b[1;33m\u001b[0m\u001b[0m\n\u001b[0m",
      "\u001b[1;31mModuleNotFoundError\u001b[0m: No module named 'textblob'"
     ]
    }
   ],
   "source": [
    "#Dependencies and modules\n",
    "import pandas as pd\n",
    "import numpy as np\n",
    "import matplotlib.pyplot as plt\n",
    "import seaborn as sns\n",
    "from datetime import datetime\n",
    "import json\n",
    "import tweepy\n"
   ]
  },
  {
   "cell_type": "code",
   "execution_count": 2,
   "metadata": {
    "collapsed": true
   },
   "outputs": [],
   "source": [
    "#Initialize Senitment Analyzer\n",
    "from vaderSentiment.vaderSentiment import SentimentIntensityAnalyzer\n",
    "analyzer = SentimentIntensityAnalyzer()"
   ]
  },
  {
   "cell_type": "code",
   "execution_count": 3,
   "metadata": {
    "collapsed": true
   },
   "outputs": [],
   "source": [
    "#Twitter API Keys \n",
    "consumer_key = \"1hQy7DJNH57HcwzyQwN4QIb7g\"\n",
    "consumer_secret = \"Lwj0L5UrqL4RCj5wIaOP2aAGda1NLyAotWRQiVCanS64MTPX0Y\"\n",
    "access_token = \"1668216486-awjRspu2pN8Bhd4l5dbXtkr3K7g6ZVXUK1ygo6a\"\n",
    "access_token_secret = \"RGHGIaE3Y0WFHx2S9OcB9J7VFytIyhLZ8GzxNtaXmfvHy\"\n",
    "\n",
    "#Setup Tweepy API Authentication\n",
    "auth = tweepy.OAuthHandler(consumer_key, consumer_secret)\n",
    "auth.set_access_token(access_token, access_token_secret)\n",
    "api = tweepy.API(auth, parser=tweepy.parsers.JSONParser())"
   ]
  },
  {
   "cell_type": "code",
   "execution_count": 4,
   "metadata": {
    "collapsed": true
   },
   "outputs": [],
   "source": [
    "#Target Search Term\n",
    "target_terms = (\"@BBC\", \"@CBS\", \"@CNN\", \"@FoxNews\", \"@nytimes\")\n",
    "\n",
    "\n",
    "#Counters\n",
    "row_count = 0\n",
    "\n",
    "#Array to hold sentiments\n",
    "sentiments = []\n",
    "\n",
    "#Loop through target terms\n",
    "for target in target_terms:\n",
    "    \n",
    "    #Search tweet from user home feed \n",
    "    public_tweets = api.user_timeline(target, count=100, result_type=\"recent\")\n",
    "    \n",
    "    #Loop through tweets\n",
    "    for tweet in public_tweets:\n",
    "        \n",
    "        #Run Vader Analysis on tweets\n",
    "        compound = analyzer.polarity_scores(tweet[\"text\"])[\"compound\"]\n",
    "        pos = analyzer.polarity_scores(tweet[\"text\"])[\"pos\"]\n",
    "        neu = analyzer.polarity_scores(tweet[\"text\"])[\"neu\"]\n",
    "        neg = analyzer.polarity_scores(tweet[\"text\"])[\"neg\"]\n",
    "        \n",
    "        #Store sentiments\n",
    "        sentiments.append({\"Date\": tweet[\"created_at\"],\n",
    "                        \"User\": target,\n",
    "                        \"Compound\": compound,\n",
    "                        \"Positive\": pos,\n",
    "                        \"Neutral\": neu,\n",
    "                        \"Negative\": neg,\n",
    "                        \"Tweet\": tweet[\"text\"],\n",
    "                        \"Tweets Ago\": row_count})\n",
    "        \n",
    "        #assign number for every 100 tweets per user\n",
    "        row_count += 1\n",
    "        if row_count > 99:\n",
    "            row_count = 0"
   ]
  },
  {
   "cell_type": "code",
   "execution_count": 6,
   "metadata": {},
   "outputs": [
    {
     "data": {
      "text/html": [
       "<div>\n",
       "<style>\n",
       "    .dataframe thead tr:only-child th {\n",
       "        text-align: right;\n",
       "    }\n",
       "\n",
       "    .dataframe thead th {\n",
       "        text-align: left;\n",
       "    }\n",
       "\n",
       "    .dataframe tbody tr th {\n",
       "        vertical-align: top;\n",
       "    }\n",
       "</style>\n",
       "<table border=\"1\" class=\"dataframe\">\n",
       "  <thead>\n",
       "    <tr style=\"text-align: right;\">\n",
       "      <th></th>\n",
       "      <th>User</th>\n",
       "      <th>Tweet</th>\n",
       "      <th>Date</th>\n",
       "      <th>Compound</th>\n",
       "      <th>Positive</th>\n",
       "      <th>Neutral</th>\n",
       "      <th>Negative</th>\n",
       "      <th>Tweets Ago</th>\n",
       "    </tr>\n",
       "  </thead>\n",
       "  <tbody>\n",
       "    <tr>\n",
       "      <th>0</th>\n",
       "      <td>@BBC</td>\n",
       "      <td>Tom Cruise stars in a remake of the 1953 adapt...</td>\n",
       "      <td>Mon Mar 26 15:45:04 +0000 2018</td>\n",
       "      <td>-0.3818</td>\n",
       "      <td>0.095</td>\n",
       "      <td>0.744</td>\n",
       "      <td>0.161</td>\n",
       "      <td>0</td>\n",
       "    </tr>\n",
       "    <tr>\n",
       "      <th>1</th>\n",
       "      <td>@BBC</td>\n",
       "      <td>In her role as head of the Commonwealth, the Q...</td>\n",
       "      <td>Mon Mar 26 15:11:57 +0000 2018</td>\n",
       "      <td>0.0000</td>\n",
       "      <td>0.000</td>\n",
       "      <td>1.000</td>\n",
       "      <td>0.000</td>\n",
       "      <td>1</td>\n",
       "    </tr>\n",
       "    <tr>\n",
       "      <th>2</th>\n",
       "      <td>@BBC</td>\n",
       "      <td>Never let a squirrel nibble your nobble... 🎈🐿😱...</td>\n",
       "      <td>Mon Mar 26 12:58:02 +0000 2018</td>\n",
       "      <td>0.0000</td>\n",
       "      <td>0.000</td>\n",
       "      <td>1.000</td>\n",
       "      <td>0.000</td>\n",
       "      <td>2</td>\n",
       "    </tr>\n",
       "    <tr>\n",
       "      <th>3</th>\n",
       "      <td>@BBC</td>\n",
       "      <td>Apple wants to introduce new emojis to better ...</td>\n",
       "      <td>Mon Mar 26 11:48:03 +0000 2018</td>\n",
       "      <td>0.4404</td>\n",
       "      <td>0.172</td>\n",
       "      <td>0.828</td>\n",
       "      <td>0.000</td>\n",
       "      <td>3</td>\n",
       "    </tr>\n",
       "    <tr>\n",
       "      <th>4</th>\n",
       "      <td>@BBC</td>\n",
       "      <td>A crack that opened up in Kenya’s Rift Valley,...</td>\n",
       "      <td>Mon Mar 26 11:00:05 +0000 2018</td>\n",
       "      <td>-0.5106</td>\n",
       "      <td>0.000</td>\n",
       "      <td>0.837</td>\n",
       "      <td>0.163</td>\n",
       "      <td>4</td>\n",
       "    </tr>\n",
       "  </tbody>\n",
       "</table>\n",
       "</div>"
      ],
      "text/plain": [
       "   User                                              Tweet  \\\n",
       "0  @BBC  Tom Cruise stars in a remake of the 1953 adapt...   \n",
       "1  @BBC  In her role as head of the Commonwealth, the Q...   \n",
       "2  @BBC  Never let a squirrel nibble your nobble... 🎈🐿😱...   \n",
       "3  @BBC  Apple wants to introduce new emojis to better ...   \n",
       "4  @BBC  A crack that opened up in Kenya’s Rift Valley,...   \n",
       "\n",
       "                             Date  Compound  Positive  Neutral  Negative  \\\n",
       "0  Mon Mar 26 15:45:04 +0000 2018   -0.3818     0.095    0.744     0.161   \n",
       "1  Mon Mar 26 15:11:57 +0000 2018    0.0000     0.000    1.000     0.000   \n",
       "2  Mon Mar 26 12:58:02 +0000 2018    0.0000     0.000    1.000     0.000   \n",
       "3  Mon Mar 26 11:48:03 +0000 2018    0.4404     0.172    0.828     0.000   \n",
       "4  Mon Mar 26 11:00:05 +0000 2018   -0.5106     0.000    0.837     0.163   \n",
       "\n",
       "   Tweets Ago  \n",
       "0           0  \n",
       "1           1  \n",
       "2           2  \n",
       "3           3  \n",
       "4           4  "
      ]
     },
     "execution_count": 6,
     "metadata": {},
     "output_type": "execute_result"
    }
   ],
   "source": [
    "#Convert array into dataframe\n",
    "sentiments_df = pd.DataFrame.from_dict(sentiments)\n",
    "sentiments_df = sentiments_df[[\"User\",\"Tweet\", \"Date\", \"Compound\", \"Positive\", \"Neutral\", \"Negative\", \"Tweets Ago\"]]\n",
    "sentiments_df.head()\n",
    "\n",
    "#Create output csv file\n",
    "#sentiments_df.to_csv(\"output.csv\")"
   ]
  },
  {
   "cell_type": "code",
   "execution_count": 7,
   "metadata": {
    "collapsed": true
   },
   "outputs": [],
   "source": [
    "#Create plot \n",
    "#Separate data by username\n",
    "bbc_data = sentiments_df.loc[sentiments_df[\"User\"] == \"@BBC\"]\n",
    "cbs_data = sentiments_df.loc[sentiments_df[\"User\"] == \"@CBS\"]\n",
    "cnn_data = sentiments_df.loc[sentiments_df[\"User\"] == \"@CNN\"]\n",
    "fox_data = sentiments_df.loc[sentiments_df[\"User\"] == \"@FoxNews\"]\n",
    "nyt_data = sentiments_df.loc[sentiments_df[\"User\"] == \"@nytimes\"]\n",
    "\n",
    "#finding x, y of BBC tweets\n",
    "bbc_x = bbc_data[\"Tweets Ago\"]\n",
    "bbc_y = bbc_data[\"Compound\"]\n",
    "\n",
    "#finding x, y of CBS tweets\n",
    "cbs_x = cbs_data[\"Tweets Ago\"]\n",
    "cbs_y = cbs_data[\"Compound\"]\n",
    "\n",
    "#finding x, y of CNN tweets\n",
    "cnn_x = cnn_data[\"Tweets Ago\"]\n",
    "cnn_y = cnn_data[\"Compound\"]\n",
    "\n",
    "#finding x, y of Fox tweets\n",
    "fox_x = fox_data[\"Tweets Ago\"]\n",
    "fox_y = fox_data[\"Compound\"]\n",
    "\n",
    "#finding x, y of NYTimes tweets\n",
    "nyt_x = nyt_data[\"Tweets Ago\"]\n",
    "nyt_y = nyt_data[\"Compound\"]\n"
   ]
  },
  {
   "cell_type": "code",
   "execution_count": 20,
   "metadata": {},
   "outputs": [
    {
     "data": {
      "image/png": "[encoded data removed]",
      "text/plain": [
       "<matplotlib.figure.Figure at 0x159609001d0>"
      ]
     },
     "metadata": {},
     "output_type": "display_data"
    },
    {
     "data": {
      "image/png": "[encoded data removed]",
      "text/plain": [
       "<matplotlib.figure.Figure at 0x1596068ca20>"
      ]
     },
     "metadata": {},
     "output_type": "display_data"
    }
   ],
   "source": [
    "#Create scatter plot \n",
    "#Set x and y ranges \n",
    "xticks = np.arange(100, 0, 20)\n",
    "yticks = np.arange(-1, 1, 0.5)\n",
    "\n",
    "bbc = plt.scatter(bbc_x, bbc_y, c=\"lightblue\", \n",
    "            edgecolor=\"black\", marker=\"o\", alpha=0.6)\n",
    "cbs = plt.scatter(cbs_x, cbs_y, c=\"g\", \n",
    "            edgecolor=\"black\", marker=\"o\", alpha=0.6)\n",
    "cnn = plt.scatter(cnn_x, cnn_y, c=\"r\", \n",
    "            edgecolor=\"black\", marker=\"o\", alpha=0.6)\n",
    "fox = plt.scatter(fox_x, fox_y, c=\"b\", \n",
    "            edgecolor=\"black\", marker=\"o\", alpha=0.6)\n",
    "nyt = plt.scatter(nyt_x, nyt_y, c=\"y\", \n",
    "            edgecolor=\"black\", marker=\"o\", alpha=0.6)\n",
    "\n",
    "#title and axes labels\n",
    "plt.title(\"Sentiment Analysis of Media Tweets\")\n",
    "plt.xlabel(\"Tweet Ago\")\n",
    "plt.ylabel(\"Tweet Polarity\")\n",
    "\n",
    "#chart aesthetics \n",
    "fig, ax = plt.subplots()\n",
    "\n",
    "plt.grid(\"on\", alpha=0.6)\n",
    "sns.set_style(\"darkgrid\")\n",
    "\n",
    "#create legend\n",
    "plt.legend((bbc, cbs, cnn, fox, nyt),\n",
    "          (\"BBC\", \"CBS\", \"CNN\", \"Fox\", \"New York Times\"),\n",
    "          title=\"Media Sources\", loc=9, bbox_to_anchor=(1.2, 1))\n",
    "\n",
    "#plt.savefig(\"Sentiment scatter.png\", bbox_inches=\"tight\")\n",
    "plt.show()"
   ]
  },
  {
   "cell_type": "code",
   "execution_count": 10,
   "metadata": {
    "collapsed": true
   },
   "outputs": [],
   "source": [
    "#Create bar graph\n",
    "#find x and y axes\n",
    "\n",
    "media = [\"BBC\", \"CBS\", \"CNN\", \"Fox\", \"NYT\"]\n",
    "\n",
    "bbc_avg = (sentiments_df.loc[sentiments_df[\"User\"] == \"@BBC\"]).mean()\n",
    "cbs_avg = (sentiments_df.loc[sentiments_df[\"User\"] == \"@CBS\"]).mean()\n",
    "cnn_avg = (sentiments_df.loc[sentiments_df[\"User\"] == \"@CNN\"]).mean()\n",
    "fox_avg = (sentiments_df.loc[sentiments_df[\"User\"] == \"@FoxNews\"]).mean()\n",
    "nyt_avg = (sentiments_df.loc[sentiments_df[\"User\"] == \"@nytimes\"]).mean()\n",
    "\n",
    "media_compound = [bbc_avg[0], cbs_avg[0], cnn_avg[0], fox_avg[0], nyt_avg[0]]\n",
    "\n",
    "x_axis = np.arange(len(media_compound))"
   ]
  },
  {
   "cell_type": "code",
   "execution_count": 17,
   "metadata": {},
   "outputs": [
    {
     "data": {
      "image/png": "[encoded data removed]",
      "text/plain": [
       "<matplotlib.figure.Figure at 0x1595f5ec198>"
      ]
     },
     "metadata": {},
     "output_type": "display_data"
    }
   ],
   "source": [
    "#create a bar group\n",
    "media_bar = plt.bar(x_axis+0.4, media_compound, width=1, edgecolor=\"black\")\n",
    "media_bar[0].set_color(\"lightblue\")\n",
    "media_bar[1].set_color(\"g\")\n",
    "media_bar[2].set_color(\"r\")\n",
    "media_bar[3].set_color(\"b\")\n",
    "media_bar[4].set_color(\"y\")\n",
    "\n",
    "# Create the ticks for our bar chart's x axis\n",
    "tick_locations = [value+0.4 for value in x_axis]\n",
    "plt.xticks(tick_locations, media)\n",
    "\n",
    "# Set the limits of the x and y axes\n",
    "plt.xlim(-0.25, len(x_axis))\n",
    "plt.ylim(-0.20, 0.40)\n",
    "\n",
    "#chart aesthetics \n",
    "#fig = plt.figure(figsize=(10, 10))\n",
    "#ax = fig.add_subplot(1, 1, 1)\n",
    "\n",
    "sns.set_style(\"dark\")\n",
    "ax.autoscale(False)\n",
    "\n",
    "plt.savefig(\"Overall Sentiment.png\", bbox_inches=\"tight\")\n",
    "plt.show()"
   ]
  },
  {
   "cell_type": "code",
   "execution_count": null,
   "metadata": {
    "collapsed": true
   },
   "outputs": [],
   "source": [
    "#create a bar group\n",
    "fig, ax = plt.subplots()\n",
    "\n",
    "media_bar = ax.bar(x_axis, media_compound, width=1, edgecolor=\"black\")\n",
    "media_bar[0].set_color(\"lightblue\")\n",
    "media_bar[1].set_color(\"g\")\n",
    "media_bar[2].set_color(\"r\")\n",
    "media_bar[3].set_color(\"b\")\n",
    "media_bar[4].set_color(\"y\")\n",
    "\n",
    "ax.set_title(\"Overall Media Sentiment based on Twitter \")\n",
    "ax.set_ylabel(\"Tweet Polarity\")\n",
    "ax.set_xticklabels((\"BBC\", \"CBS\", \"CNN\", \"Fox\", \"NYT\"))\n"
   ]
  },
  {
   "cell_type": "code",
   "execution_count": 20,
   "metadata": {},
   "outputs": [
    {
     "name": "stdout",
     "output_type": "stream",
     "text": [
      "2018-03-22 15:00:43+00:00\n"
     ]
    }
   ],
   "source": [
    "#convert timestamp\n",
    "#target = \"@BBC\"\n",
    "#public_tweets = api.user_timeline(target, count=5)\n",
    "\n",
    "tweet_times = []\n",
    " \n",
    "for tweet in public_tweets:\n",
    "    raw_time = tweet[\"created_at\"]\n",
    "    #print(raw_time)\n",
    "    tweet_times.append(raw_time)\n",
    "\n",
    "converted_timestamps = []\n",
    "for raw_time in tweet_times:\n",
    "    converted_time = datetime.strptime(raw_time, \"%a %b %d %H:%M:%S %z %Y\")\n",
    "    converted_timestamps.append(converted_time)\n",
    "\n",
    "print(converted_timestamps[0])"
   ]
  },
  {
   "cell_type": "code",
   "execution_count": 21,
   "metadata": {},
   "outputs": [
    {
     "ename": "TypeError",
     "evalue": "strptime() argument 1 must be str, not Series",
     "output_type": "error",
     "traceback": [
      "\u001b[1;31m---------------------------------------------------------------------------\u001b[0m",
      "\u001b[1;31mTypeError\u001b[0m                                 Traceback (most recent call last)",
      "\u001b[1;32m<ipython-input-21-7622c0f058bf>\u001b[0m in \u001b[0;36m<module>\u001b[1;34m()\u001b[0m\n\u001b[0;32m      3\u001b[0m \u001b[1;33m\u001b[0m\u001b[0m\n\u001b[0;32m      4\u001b[0m \u001b[1;32mfor\u001b[0m \u001b[0mdate\u001b[0m \u001b[1;32min\u001b[0m \u001b[0msentiments_df\u001b[0m\u001b[1;33m[\u001b[0m\u001b[1;34m\"Date\"\u001b[0m\u001b[1;33m]\u001b[0m\u001b[1;33m:\u001b[0m\u001b[1;33m\u001b[0m\u001b[0m\n\u001b[1;32m----> 5\u001b[1;33m     \u001b[0mconverted_time\u001b[0m \u001b[1;33m=\u001b[0m \u001b[0mdatetime\u001b[0m\u001b[1;33m.\u001b[0m\u001b[0mstrptime\u001b[0m\u001b[1;33m(\u001b[0m\u001b[0msentiments_df\u001b[0m\u001b[1;33m[\u001b[0m\u001b[1;34m\"Date\"\u001b[0m\u001b[1;33m]\u001b[0m\u001b[1;33m,\u001b[0m \u001b[1;34m\"%a %b %d %H:%M:%S %z %Y\"\u001b[0m\u001b[1;33m)\u001b[0m\u001b[1;33m\u001b[0m\u001b[0m\n\u001b[0m\u001b[0;32m      6\u001b[0m     \u001b[1;31m#print(raw_time)\u001b[0m\u001b[1;33m\u001b[0m\u001b[1;33m\u001b[0m\u001b[0m\n\u001b[0;32m      7\u001b[0m     \u001b[0mconverted_timestamps\u001b[0m\u001b[1;33m.\u001b[0m\u001b[0mappend\u001b[0m\u001b[1;33m(\u001b[0m\u001b[0mconverted_time\u001b[0m\u001b[1;33m)\u001b[0m\u001b[1;33m\u001b[0m\u001b[0m\n",
      "\u001b[1;31mTypeError\u001b[0m: strptime() argument 1 must be str, not Series"
     ]
    }
   ],
   "source": [
    "\n",
    "converted_timestamps = []\n",
    " \n",
    "for date in sentiments_df[\"Date\"]:\n",
    "    converted_time = datetime.strptime(sentiments_df[\"Date\"], \"%a %b %d %H:%M:%S %z %Y\")\n",
    "    #print(raw_time)\n",
    "    converted_timestamps.append(converted_time)\n",
    "\n",
    "#for raw_time in tweet_times:\n",
    "   # converted_time = datetime.strptime(raw_time, \"%a %b %d %H:%M:%S %z %Y\"\n",
    "\n",
    "print(converted_timestamps[0])"
   ]
  },
  {
   "cell_type": "code",
   "execution_count": null,
   "metadata": {
    "collapsed": true
   },
   "outputs": [],
   "source": []
  },
  {
   "cell_type": "code",
   "execution_count": null,
   "metadata": {
    "collapsed": true
   },
   "outputs": [],
   "source": []
  },
  {
   "cell_type": "code",
   "execution_count": null,
   "metadata": {
    "collapsed": true
   },
   "outputs": [],
   "source": []
  }
 ],
 "metadata": {
  "kernelspec": {
   "display_name": "Python 3",
   "language": "python",
   "name": "python3"
  },
  "language_info": {
   "codemirror_mode": {
    "name": "ipython",
    "version": 3
   },
   "file_extension": ".py",
   "mimetype": "text/x-python",
   "name": "python",
   "nbconvert_exporter": "python",
   "pygments_lexer": "ipython3",
   "version": "3.6.3"
  }
 },
 "nbformat": 4,
 "nbformat_minor": 2
}
